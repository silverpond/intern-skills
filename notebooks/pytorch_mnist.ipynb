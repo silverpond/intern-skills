{
 "cells": [
  {
   "cell_type": "markdown",
   "metadata": {
    "id": "jqzyl-IpoeMJ"
   },
   "source": [
    "# Train MNIST \n",
    "\n",
    "MNIST is the \"Hello World\" of image classification.\n",
    "This notebook is almost a carbon copy of [this](https://colab.research.google.com/github/rpi-techfundamentals/fall2018-materials/blob/master/10-deep-learning/04-pytorch-mnist.ipynb#scrollTo=p_K4RdAT4nGA) notebook by Analytics Dojo with some intentional errors built in."
   ]
  },
  {
   "cell_type": "code",
   "execution_count": null,
   "metadata": {
    "id": "VVWx01mzoeMO"
   },
   "outputs": [],
   "source": [
    "#Import Libraries\n",
    "\n",
    "\n",
    "import argparse\n",
    "import torch\n",
    "import torch.nn as nn\n",
    "import torch.nn.functional as F\n",
    "import torch.optim as optim\n",
    "from torchvision import datasets, transforms\n",
    "from torch.autograd import Variable\n",
    "\n"
   ]
  },
  {
   "cell_type": "markdown",
   "metadata": {},
   "source": [
    "## 1. Hyperparameter Adjustments\n",
    "- **EPOCHS**: Increased from 2 to 30 to provide the model with more opportunities to learn from the data, which should improve overall performance.\n",
    "- **LEARNING_RATE**: Reduced from 0.01 to 0.001. This change allows for smaller, more controlled parameter updates, leading to a more stable learning process."
   ]
  },
  {
   "cell_type": "code",
   "execution_count": null,
   "metadata": {
    "id": "RruJYkGvoeMO"
   },
   "outputs": [],
   "source": [
    "\n",
    "DATA_DIR='../data'\n",
    "TRAIN_BATCH=256\n",
    "TEST_BATCH=1000\n",
    "EPOCHS=30\n",
    "LEARNING_RATE=0.001 \n",
    "MOMENTUM=0.5\n",
    "RANDOM_SEED=42\n",
    "CUDA=False\n",
    "IMAGE_NORM=(0.1307,), (0.3081,)\n"
   ]
  },
  {
   "cell_type": "code",
   "execution_count": null,
   "metadata": {
    "id": "0-Cm7v2ioeMQ",
    "outputId": "5f10f501-45b8-49ad-cdb7-07ccdd7645ba"
   },
   "outputs": [],
   "source": [
    "#load the data\n",
    "def get_data_loader(is_train, batch_size, download=False):\n",
    "    loader = torch.utils.data.DataLoader(\n",
    "        datasets.MNIST(DATA_DIR, train=is_train, download=download,\n",
    "                       transform=transforms.Compose([\n",
    "                           transforms.ToTensor(),\n",
    "                           transforms.Normalize(*IMAGE_NORM)\n",
    "                       ])),\n",
    "        batch_size=batch_size, shuffle=True)\n",
    "    return loader\n",
    "    \n",
    "\n",
    "train_loader = get_data_loader(True, TRAIN_BATCH, download=True)\n",
    "test_loader = get_data_loader(False, TEST_BATCH)\n"
   ]
  },
  {
   "cell_type": "markdown",
   "metadata": {},
   "source": [
    "## 2. Modifications to the Model Architecture\n",
    "- In the original code, `NUM_CLASSES` was incorrectly set to 0, which would cause issues with classification. This was fixed by setting it to 10, matching the number of classes in the MNIST dataset.\n"
   ]
  },
  {
   "cell_type": "code",
   "execution_count": null,
   "metadata": {
    "id": "tB2TFESdoeMR"
   },
   "outputs": [],
   "source": [
    "\n",
    "\n",
    "class Net(nn.Module):\n",
    "    #This defines the structure of the NN.\n",
    "    def __init__(self):\n",
    "        NUM_CLASSES = 10\n",
    "        super(Net, self).__init__()\n",
    "        self.conv1 = nn.Conv2d(1, 10, kernel_size=5)\n",
    "        self.conv2 = nn.Conv2d(10, 20, kernel_size=5)\n",
    "        self.conv2_drop = nn.Dropout2d()  #Dropout\n",
    "        self.fc1 = nn.Linear(320, 50)\n",
    "        self.fc2 = nn.Linear(50, NUM_CLASSES)\n",
    "\n",
    "    def forward(self, x):\n",
    "        #Convolutional Layer/Pooling Layer/Activation\n",
    "        x = F.relu(F.max_pool2d(self.conv1(x), 2)) \n",
    "        #Convolutional Layer/Dropout/Pooling Layer/Activation\n",
    "        x = F.relu(F.max_pool2d(self.conv2_drop(self.conv2(x)), 2))\n",
    "        x = x.view(-1, 320)\n",
    "        #Fully Connected Layer/Activation\n",
    "        x = F.relu(self.fc1(x))\n",
    "        x = F.dropout(x, training=self.training)\n",
    "        #Fully Connected Layer/Activation\n",
    "        x = self.fc2(x)\n",
    "        #Softmax gets probabilities. \n",
    "        return F.log_softmax(x, dim=1)\n"
   ]
  },
  {
   "cell_type": "markdown",
   "metadata": {},
   "source": [
    "## 3. Early Stopping Mechanism\n",
    "- An **EarlyStopping** class has been introduced to monitor validation loss and halt the training process if no improvement is observed for a specified number of epochs (patience=5). This mechanism enhances training efficiency by preventing overfitting and unnecessary computation beyond the point of diminishing returns."
   ]
  },
  {
   "cell_type": "code",
   "execution_count": null,
   "metadata": {},
   "outputs": [],
   "source": [
    "# Define Early Stopping\n",
    "class EarlyStopping:\n",
    "    def __init__(self, patience=5, verbose=False):\n",
    "        self.patience = patience\n",
    "        self.verbose = verbose\n",
    "        self.best_loss = float('inf')\n",
    "        self.epochs_no_improve = 0\n",
    "        self.should_stop = False\n",
    "\n",
    "    def step(self, val_loss):\n",
    "        if val_loss < self.best_loss:\n",
    "            self.best_loss = val_loss\n",
    "            self.epochs_no_improve = 0\n",
    "        else:\n",
    "            self.epochs_no_improve += 1\n",
    "            if self.epochs_no_improve >= self.patience:\n",
    "                self.should_stop = True\n",
    "                if self.verbose:\n",
    "                    print(f'Early stopping triggered after {self.patience} epochs.')\n"
   ]
  },
  {
   "cell_type": "markdown",
   "metadata": {},
   "source": [
    "## 4. Implementation of Enhanced Error Metrics\n",
    "- A custom **ErrorMetrics** function has been implemented to compute a range of evaluation metrics, including **accuracy**, **F1 score**, **precision**, and **recall**, using `sklearn`. These metrics provide a more comprehensive assessment of model performance, moving beyond the simple evaluation of loss and accuracy."
   ]
  },
  {
   "cell_type": "code",
   "execution_count": null,
   "metadata": {},
   "outputs": [],
   "source": [
    "import numpy as np\n",
    "def ErrorMetrics(realVec, estiVec):\n",
    "    realVec = realVec.cpu().detach().numpy().astype(float)\n",
    "    estiVec = estiVec.cpu().detach().numpy().astype(float)\n",
    "    from sklearn.metrics import accuracy_score, f1_score, precision_score, recall_score\n",
    "    # Calculate accuracy,F1 score, precision and recall\n",
    "    Acc = accuracy_score(realVec, estiVec)\n",
    "    F1 = f1_score(realVec, estiVec, average='macro', zero_division=0)\n",
    "    P = precision_score(realVec, estiVec, average='macro', zero_division=0)\n",
    "    Recall = recall_score(realVec, estiVec, average='macro', zero_division=0)\n",
    "    return {\n",
    "        'Acc': Acc,\n",
    "        'F1': F1,\n",
    "        'P': P,\n",
    "        'Recall': Recall\n",
    "    }"
   ]
  },
  {
   "cell_type": "markdown",
   "metadata": {},
   "source": [
    "## 5. Loss Function and Routine Updates\n",
    "- **Loss Function**: The loss function has been updated to use `reduction='sum'`, which sums the loss over each batch. This gives better control over optimization, particularly for larger batches.\n",
    "\n",
    "- **Training Routine**: The training loop output has been made more readable with separator lines, making it easier to monitor progress during training.\n",
    "\n",
    "- **Testing Routine**: The testing loop now calculates not only the loss but also additional metrics like **accuracy**, **F1 score**, **precision**, and **recall**. This gives a more detailed view of the model’s performance, especially when dealing with imbalanced data.\n",
    "This version"
   ]
  },
  {
   "cell_type": "code",
   "execution_count": null,
   "metadata": {
    "id": "DLFSjzRaoeMS"
   },
   "outputs": [],
   "source": [
    "\n",
    "def train(epoch):\n",
    "    model.train()\n",
    "    print('-' * 100)\n",
    "    for batch_idx, (data, target) in enumerate(train_loader):\n",
    "        if CUDA:\n",
    "            data, target = data.cuda(), target.cuda()\n",
    "        #This will zero out the gradients for this batch. \n",
    "        optimizer.zero_grad()\n",
    "        output = model(data)\n",
    "        # Calculate the loss The negative log likelihood loss. It is useful to train a classification problem with C classes.\n",
    "        loss = F.nll_loss(output, target, reduction='sum')\n",
    "        #dloss/dx for every Variable \n",
    "        loss.backward()\n",
    "        #to do a one-step update on our parameter.\n",
    "        optimizer.step()\n",
    "        #Print out the loss periodically. \n",
    "        if batch_idx % 50 == 0:\n",
    "            print('Train Epoch: {} [{}/{} ({:.0f}%)]\\tLoss: {:.6f}'.format(\n",
    "                epoch, batch_idx * len(data), len(train_loader.dataset),\n",
    "                100. * batch_idx / len(train_loader), loss.item()))\n",
    "\n",
    "def test():\n",
    "    model.eval()\n",
    "    test_loss = 0\n",
    "    correct = 0\n",
    "\n",
    "    for data, target in test_loader:\n",
    "        if CUDA:\n",
    "            data, target = data.cuda(), target.cuda()\n",
    "        output = model(data)\n",
    "        # Sum up batch loss\n",
    "        test_loss += F.nll_loss(output, target, reduction='sum').item()\n",
    "        # Get the index of the max log_probability\n",
    "        pred = output.data.max(1, keepdim=True)[1]\n",
    "        # Calculates and stores accuracy, F1 score, precision, and recall in 'results'\n",
    "        results = ErrorMetrics(pred, target)\n",
    "\n",
    "    test_loss /= len(test_loader.dataset)\n",
    "    \n",
    "\n",
    "    print(f'\\nTest set: Average loss: {test_loss:.4f}\\n')\n",
    "    print(f'Epoch:{epoch} Accuracy={results[\"Acc\"] * 100:.2f}% F1={results[\"F1\"] * 100:.2f}% Precision={results[\"P\"] * 100:.2f}% Recall={results[\"Recall\"] * 100:.2f}% \\n')\n",
    "\n",
    "\n"
   ]
  },
  {
   "cell_type": "markdown",
   "metadata": {},
   "source": [
    "## 6.Model Initialization and Early Stopping"
   ]
  },
  {
   "cell_type": "code",
   "execution_count": null,
   "metadata": {
    "id": "cuvVpwSWoeMT",
    "outputId": "784283a9-719b-47df-a976-513163f95337"
   },
   "outputs": [],
   "source": [
    "model = Net()\n",
    "if CUDA:\n",
    "    model.cuda()\n",
    "\n",
    "optimizer = optim.SGD(model.parameters(), lr=LEARNING_RATE, momentum=MOMENTUM)\n",
    "\n",
    "# Initialize early stopping\n",
    "early_stopping = EarlyStopping(patience=5, verbose=True)\n",
    "\n",
    "for epoch in range(1, EPOCHS + 1):\n",
    "    train(epoch)\n",
    "    test()\n"
   ]
  }
 ],
 "metadata": {
  "colab": {
   "name": "04-pytorch-mnist.ipynb",
   "provenance": []
  },
  "kernelspec": {
   "display_name": "Python 3 (ipykernel)",
   "language": "python",
   "name": "python3"
  },
  "language_info": {
   "codemirror_mode": {
    "name": "ipython",
    "version": 3
   },
   "file_extension": ".py",
   "mimetype": "text/x-python",
   "name": "python",
   "nbconvert_exporter": "python",
   "pygments_lexer": "ipython3",
   "version": "3.11.4"
  }
 },
 "nbformat": 4,
 "nbformat_minor": 4
}
