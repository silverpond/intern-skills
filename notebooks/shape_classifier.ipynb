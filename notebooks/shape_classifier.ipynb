{
 "cells": [
  {
   "cell_type": "markdown",
   "id": "0",
   "metadata": {},
   "source": [
    "# Train A Shape Classifier Model\n",
    "\n"
   ]
  },
  {
   "cell_type": "code",
   "execution_count": 1,
   "id": "1",
   "metadata": {},
   "outputs": [],
   "source": [
    "import json\n",
    "import os\n",
    "\n",
    "train_data_root = \"../datasets/train\"\n",
    "test_data_root = \"../datasets/test\""
   ]
  },
  {
   "cell_type": "code",
   "execution_count": 2,
   "id": "2",
   "metadata": {},
   "outputs": [
    {
     "name": "stdout",
     "output_type": "stream",
     "text": [
      "Classes: ['circle', 'diamond', 'triangle']\n"
     ]
    }
   ],
   "source": [
    "import torch\n",
    "import torch.nn as nn\n",
    "import torch.optim as optim\n",
    "import torch.nn.functional as F\n",
    "from torchvision import datasets, transforms\n",
    "from torch.utils.data import DataLoader\n",
    "import os\n",
    "\n",
    "# Set device\n",
    "device = torch.device(\"cuda\" if torch.cuda.is_available() else \"cpu\")\n",
    "\n",
    "# Define transformations (including resizing and normalization)\n",
    "transform = transforms.Compose([\n",
    "    transforms.Grayscale(num_output_channels=1),  # Convert to grayscale (black and white images)\n",
    "    transforms.Resize((64, 64)),  # Resize images to 64x64 pixels\n",
    "    transforms.ToTensor(),  # Convert the image to a tensor\n",
    "    transforms.Normalize((0.5,), (0.5,))  # Normalize the images (mean=0.5, std=0.5 for grayscale)\n",
    "])\n",
    "\n",
    "# Load the dataset\n",
    "train_dataset = datasets.ImageFolder(root=train_data_root, transform=transform)\n",
    "test_dataset = datasets.ImageFolder(root=test_data_root, transform=transform)\n",
    "\n",
    "train_loader = DataLoader(train_dataset, batch_size=32, shuffle=True)\n",
    "test_loader = DataLoader(test_dataset, batch_size=32, shuffle=False)\n",
    "\n",
    "# Check class names (optional)\n",
    "print(f'Classes: {train_dataset.classes}')\n",
    "\n",
    "# 2. Define a simple CNN model\n",
    "class SimpleCNN(nn.Module):\n",
    "    def __init__(self):\n",
    "        super(SimpleCNN, self).__init__()\n",
    "        self.conv1 = nn.Conv2d(1, 16, kernel_size=3, padding=1)\n",
    "        self.conv2 = nn.Conv2d(16, 32, kernel_size=3, padding=1)\n",
    "        self.fc1 = nn.Linear(32 * 16 * 16, 128)\n",
    "        self.fc2 = nn.Linear(128, 3)  # 3 classes: circle, triangle, rectangle\n",
    "        \n",
    "    def forward(self, x):\n",
    "        x = F.relu(self.conv1(x))   # First Conv Layer\n",
    "        x = F.max_pool2d(x, 2)      # Max Pooling\n",
    "        x = F.relu(self.conv2(x))   # Second Conv Layer\n",
    "        x = F.max_pool2d(x, 2)      # Max Pooling\n",
    "        x = x.view(x.size(0), -1)   # Flatten\n",
    "        x = F.relu(self.fc1(x))     # Fully Connected Layer 1\n",
    "        x = self.fc2(x)             # Fully Connected Layer 2 (output)\n",
    "        return x\n",
    "\n",
    "model = SimpleCNN().to(device)\n",
    "criterion = nn.CrossEntropyLoss()\n",
    "optimizer = optim.Adam(model.parameters(), lr=0.001)\n",
    "\n",
    "def train_model(model, train_loader, criterion, optimizer, epochs=10):\n",
    "    model.train()\n",
    "    for epoch in range(epochs):\n",
    "        running_loss = 0.0\n",
    "        correct = 0\n",
    "        total = 0\n",
    "        for images, labels in train_loader:\n",
    "            images, labels = images.to(device), labels.to(device)\n",
    "            \n",
    "            # Zero the parameter gradients\n",
    "            optimizer.zero_grad()\n",
    "            \n",
    "            # Forward pass\n",
    "            outputs = model(images)\n",
    "            loss = criterion(outputs, labels)\n",
    "            \n",
    "            # Backward pass and optimize\n",
    "            loss.backward()\n",
    "            optimizer.step()\n",
    "            \n",
    "            # Statistics\n",
    "            running_loss += loss.item()\n",
    "            _, predicted = torch.max(outputs, 1)\n",
    "            total += labels.size(0)\n",
    "            correct += (predicted == labels).sum().item()\n",
    "        \n",
    "        accuracy = 100 * correct / total\n",
    "        print(f'Epoch [{epoch+1}/{epochs}], Loss: {running_loss/len(train_loader):.4f}, Accuracy: {accuracy:.2f}%')\n"
   ]
  },
  {
   "cell_type": "markdown",
   "id": "3",
   "metadata": {},
   "source": [
    "# Train"
   ]
  },
  {
   "cell_type": "code",
   "execution_count": 3,
   "id": "4",
   "metadata": {},
   "outputs": [
    {
     "name": "stdout",
     "output_type": "stream",
     "text": [
      "Epoch [1/15], Loss: 1.1637, Accuracy: 32.71%\n",
      "Epoch [2/15], Loss: 1.0782, Accuracy: 36.00%\n",
      "Epoch [3/15], Loss: 1.0146, Accuracy: 48.71%\n",
      "Epoch [4/15], Loss: 0.9366, Accuracy: 54.86%\n",
      "Epoch [5/15], Loss: 0.8362, Accuracy: 61.29%\n",
      "Epoch [6/15], Loss: 0.7207, Accuracy: 67.14%\n",
      "Epoch [7/15], Loss: 0.5859, Accuracy: 76.43%\n",
      "Epoch [8/15], Loss: 0.4584, Accuracy: 81.29%\n",
      "Epoch [9/15], Loss: 0.3422, Accuracy: 88.86%\n",
      "Epoch [10/15], Loss: 0.2567, Accuracy: 92.57%\n",
      "Epoch [11/15], Loss: 0.2028, Accuracy: 93.57%\n",
      "Epoch [12/15], Loss: 0.1408, Accuracy: 96.57%\n",
      "Epoch [13/15], Loss: 0.1064, Accuracy: 97.43%\n",
      "Epoch [14/15], Loss: 0.0809, Accuracy: 97.57%\n",
      "Epoch [15/15], Loss: 0.0598, Accuracy: 98.86%\n"
     ]
    }
   ],
   "source": [
    "train_model(model, train_loader, criterion, optimizer, epochs=15)"
   ]
  },
  {
   "cell_type": "markdown",
   "id": "5",
   "metadata": {},
   "source": [
    "# Test "
   ]
  },
  {
   "cell_type": "code",
   "execution_count": 4,
   "id": "6",
   "metadata": {},
   "outputs": [],
   "source": [
    "from sklearn.metrics import precision_score, recall_score, f1_score\n",
    "\n",
    "def test(model, test_loader):\n",
    "    \"\"\"Print the Precision, Recall and F1-score for the trained model\n",
    "    \"\"\"\n",
    "    model.eval()  # Set the model to evaluation mode\n",
    "    all_labels = []  # To store true labels\n",
    "    all_predictions = []  # To store predictions\n",
    "\n",
    "    with torch.no_grad():  # Disable gradient calculation\n",
    "        for images, labels in test_loader:\n",
    "            images, labels = images.to(device), labels.to(device)  # Move to device\n",
    "            outputs = model(images)  # Get model predictions\n",
    "            _, predicted = torch.max(outputs, 1)  # Get the predicted class\n",
    "            \n",
    "            all_labels.extend(labels.cpu().numpy())  # Store true labels\n",
    "            all_predictions.extend(predicted.cpu().numpy())  # Store predictions\n",
    "\n",
    "    # Calculate precision, recall, and F1 score\n",
    "    precision = precision_score(all_labels, all_predictions, average='weighted')\n",
    "    recall = recall_score(all_labels, all_predictions, average='weighted')\n",
    "    f1 = f1_score(all_labels, all_predictions, average='weighted')\n",
    "\n",
    "    # Print results\n",
    "    print(f'Precision: {precision:.4f}')\n",
    "    print(f'Recall: {recall:.4f}')\n",
    "    print(f'F1-score: {f1:.4f}')\n"
   ]
  },
  {
   "cell_type": "markdown",
   "id": "7",
   "metadata": {},
   "source": [
    "# Show Predictions\n"
   ]
  },
  {
   "cell_type": "code",
   "execution_count": 5,
   "id": "8",
   "metadata": {},
   "outputs": [],
   "source": [
    "import matplotlib.pyplot as plt\n",
    "import torchvision.transforms as transforms\n",
    "\n",
    "def show_prediction(model, image):\n",
    "    \"\"\"Pass the image to the model and overlay the predicted shape and confidence on the input\n",
    "    image and display it.\n",
    "    \"\"\"\n",
    "    # Define transformations for the input image\n",
    "    transform = transforms.Compose([\n",
    "        transforms.Grayscale(num_output_channels=1),  # Ensure the image is in grayscale\n",
    "        transforms.Resize((64, 64)),  # Resize to the model input size\n",
    "        transforms.ToTensor(),  # Convert to tensor\n",
    "        transforms.Normalize((0.5,), (0.5,))  # Normalize the image\n",
    "    ])\n",
    "\n",
    "    # Preprocess the image\n",
    "    image_tensor = transform(image).unsqueeze(0)  # Add a batch dimension\n",
    "\n",
    "    # Set the model to evaluation mode\n",
    "    model.eval()\n",
    "    \n",
    "    with torch.no_grad():  # Disable gradient calculation\n",
    "        # Pass the image through the model\n",
    "        output = model(image_tensor.to(device))\n",
    "        probabilities = F.softmax(output, dim=1)  # Convert logits to probabilities\n",
    "        confidence, predicted_class = torch.max(probabilities, 1)  # Get the predicted class and confidence\n",
    "\n",
    "    # Convert the predicted class to label (assuming class indices are 0, 1, 2)\n",
    "    class_labels = ['circle', 'triangle', 'rectangle']  # Modify according to your class labels\n",
    "    predicted_label = class_labels[predicted_class.item()]\n",
    "    confidence_value = confidence.item()\n",
    "\n",
    "    # Display the image with the prediction overlay\n",
    "    plt.imshow(image, cmap='gray')\n",
    "    plt.title(f'Predicted: {predicted_label} (Confidence: {confidence_value:.2f})')\n",
    "    plt.axis('off')  # Hide axes\n",
    "    plt.show()\n"
   ]
  },
  {
   "cell_type": "code",
   "execution_count": 6,
   "id": "35f6dfbe-e8bc-4cf3-8be3-d639475ad1bc",
   "metadata": {},
   "outputs": [
    {
     "name": "stdout",
     "output_type": "stream",
     "text": [
      "Precision: 0.7265\n",
      "Recall: 0.7267\n",
      "F1-score: 0.7264\n"
     ]
    }
   ],
   "source": [
    "test(model, test_loader)\n",
    "\n"
   ]
  },
  {
   "cell_type": "code",
   "execution_count": 7,
   "id": "6595116c-87ab-441b-8e4d-d84a9d9e9229",
   "metadata": {},
   "outputs": [
    {
     "data": {
      "image/png": "[encoded data removed]",
      "text/plain": [
       "<Figure size 640x480 with 1 Axes>"
      ]
     },
     "metadata": {},
     "output_type": "display_data"
    }
   ],
   "source": [
    "from PIL import Image  # Import Image from PIL\n",
    "\n",
    "image_path = \"../datasets/test/circle/circle_285.png\" # Replace with the actual image path\n",
    "image = Image.open(image_path).convert(\"L\") \n",
    "# Run the show_prediction function\n",
    "show_prediction(model, image)"
   ]
  },
  {
   "cell_type": "code",
   "execution_count": null,
   "id": "2ab81524-8730-472b-ba07-8bc6df915e01",
   "metadata": {},
   "outputs": [],
   "source": []
  }
 ],
 "metadata": {
  "kernelspec": {
   "display_name": "intern-skills",
   "language": "python",
   "name": "intern-skills"
  },
  "language_info": {
   "codemirror_mode": {
    "name": "ipython",
    "version": 3
   },
   "file_extension": ".py",
   "mimetype": "text/x-python",
   "name": "python",
   "nbconvert_exporter": "python",
   "pygments_lexer": "ipython3",
   "version": "3.9.20"
  }
 },
 "nbformat": 4,
 "nbformat_minor": 5
}
