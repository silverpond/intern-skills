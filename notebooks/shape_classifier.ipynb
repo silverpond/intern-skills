{
 "cells": [
  {
   "cell_type": "markdown",
   "id": "0",
   "metadata": {},
   "source": [
    "# Train A Shape Classifier Model\n",
    "\n"
   ]
  },
  {
   "cell_type": "code",
   "execution_count": 1,
   "id": "0904c5f8",
   "metadata": {},
   "outputs": [],
   "source": [
    "import json\n",
    "import os\n",
    "\n",
    "train_data_root = \"../datasets/train\"\n",
    "test_data_root = \"../datasets/test\""
   ]
  },
  {
   "cell_type": "code",
   "execution_count": 6,
   "id": "2",
   "metadata": {},
   "outputs": [
    {
     "name": "stdout",
     "output_type": "stream",
     "text": [
      "Classes: ['circle', 'diamond', 'triangle']\n"
     ]
    }
   ],
   "source": [
    "import torch\n",
    "import torch.nn as nn\n",
    "import torch.optim as optim\n",
    "import torch.nn.functional as F\n",
    "from torchvision import datasets, transforms\n",
    "from torch.utils.data import DataLoader\n",
    "import os\n",
    "\n",
    "# Set device\n",
    "device = torch.device(\"cuda\" if torch.cuda.is_available() else \"cpu\")\n",
    "\n",
    "# Define transformations (including resizing and normalization)\n",
    "transform = transforms.Compose([\n",
    "    transforms.Grayscale(num_output_channels=1),  # Convert to grayscale (black and white images)\n",
    "    transforms.Resize((64, 64)),  # Resize images to 64x64 pixels\n",
    "    transforms.ToTensor(),  # Convert the image to a tensor\n",
    "    transforms.Normalize((0.5,), (0.5,))  # Normalize the images (mean=0.5, std=0.5 for grayscale)\n",
    "])\n",
    "\n",
    "# Load the dataset\n",
    "train_dataset = datasets.ImageFolder(root=train_data_root, transform=transform)\n",
    "test_dataset = datasets.ImageFolder(root=test_data_root, transform=transform)\n",
    "\n",
    "train_loader = DataLoader(train_dataset, batch_size=32, shuffle=True)\n",
    "test_loader = DataLoader(test_dataset, batch_size=32, shuffle=False)\n",
    "\n",
    "# Check class names (optional)\n",
    "print(f'Classes: {train_dataset.classes}')\n",
    "\n",
    "# 2. Define a simple CNN model\n",
    "class SimpleCNN(nn.Module):\n",
    "    def __init__(self):\n",
    "        super(SimpleCNN, self).__init__()\n",
    "        self.conv1 = nn.Conv2d(1, 16, kernel_size=3, padding=1)\n",
    "        self.conv2 = nn.Conv2d(16, 32, kernel_size=3, padding=1)\n",
    "        self.fc1 = nn.Linear(32 * 16 * 16, 128)\n",
    "        self.fc2 = nn.Linear(128, 3)  # 3 classes: circle, triangle, rectangle\n",
    "        \n",
    "    def forward(self, x):\n",
    "        x = F.relu(self.conv1(x))   # First Conv Layer\n",
    "        x = F.max_pool2d(x, 2)      # Max Pooling\n",
    "        x = F.relu(self.conv2(x))   # Second Conv Layer\n",
    "        x = F.max_pool2d(x, 2)      # Max Pooling\n",
    "        x = x.view(x.size(0), -1)   # Flatten\n",
    "        x = F.relu(self.fc1(x))     # Fully Connected Layer 1\n",
    "        x = self.fc2(x)             # Fully Connected Layer 2 (output)\n",
    "        return x\n",
    "\n",
    "model = SimpleCNN().to(device)\n",
    "criterion = nn.CrossEntropyLoss()\n",
    "optimizer = optim.Adam(model.parameters(), lr=0.001)\n",
    "\n",
    "def train_model(model, train_loader, criterion, optimizer, epochs=10):\n",
    "    model.train()\n",
    "    for epoch in range(epochs):\n",
    "        running_loss = 0.0\n",
    "        correct = 0\n",
    "        total = 0\n",
    "        for images, labels in train_loader:\n",
    "            images, labels = images.to(device), labels.to(device)\n",
    "            \n",
    "            # Zero the parameter gradients\n",
    "            optimizer.zero_grad()\n",
    "            \n",
    "            # Forward pass\n",
    "            outputs = model(images)\n",
    "            loss = criterion(outputs, labels)\n",
    "            \n",
    "            # Backward pass and optimize\n",
    "            loss.backward()\n",
    "            optimizer.step()\n",
    "            \n",
    "            # Statistics\n",
    "            running_loss += loss.item()\n",
    "            _, predicted = torch.max(outputs, 1)\n",
    "            total += labels.size(0)\n",
    "            correct += (predicted == labels).sum().item()\n",
    "        \n",
    "        accuracy = 100 * correct / total\n",
    "        print(f'Epoch [{epoch+1}/{epochs}], Loss: {running_loss/len(train_loader):.4f}, Accuracy: {accuracy:.2f}%')\n",
    "\n",
    "\n"
   ]
  },
  {
   "cell_type": "markdown",
   "id": "3",
   "metadata": {},
   "source": [
    "# Train"
   ]
  },
  {
   "cell_type": "code",
   "execution_count": 7,
   "id": "4",
   "metadata": {},
   "outputs": [
    {
     "name": "stdout",
     "output_type": "stream",
     "text": [
      "Epoch [1/15], Loss: 1.1223, Accuracy: 37.57%\n",
      "Epoch [2/15], Loss: 1.0012, Accuracy: 49.43%\n",
      "Epoch [3/15], Loss: 0.9227, Accuracy: 56.00%\n",
      "Epoch [4/15], Loss: 0.8141, Accuracy: 63.00%\n",
      "Epoch [5/15], Loss: 0.6396, Accuracy: 74.14%\n",
      "Epoch [6/15], Loss: 0.4663, Accuracy: 82.71%\n",
      "Epoch [7/15], Loss: 0.3057, Accuracy: 90.14%\n",
      "Epoch [8/15], Loss: 0.2139, Accuracy: 93.00%\n",
      "Epoch [9/15], Loss: 0.1717, Accuracy: 94.00%\n",
      "Epoch [10/15], Loss: 0.1223, Accuracy: 96.00%\n",
      "Epoch [11/15], Loss: 0.0922, Accuracy: 97.00%\n",
      "Epoch [12/15], Loss: 0.0579, Accuracy: 98.57%\n",
      "Epoch [13/15], Loss: 0.0364, Accuracy: 99.57%\n",
      "Epoch [14/15], Loss: 0.0267, Accuracy: 99.71%\n",
      "Epoch [15/15], Loss: 0.0150, Accuracy: 99.86%\n"
     ]
    }
   ],
   "source": [
    "train_model(model, train_loader, criterion, optimizer, epochs=15)"
   ]
  },
  {
   "cell_type": "markdown",
   "id": "5",
   "metadata": {},
   "source": [
    "# Test "
   ]
  },
  {
   "cell_type": "code",
   "execution_count": 16,
   "id": "6",
   "metadata": {},
   "outputs": [
    {
     "name": "stdout",
     "output_type": "stream",
     "text": [
      "Class     Pre       Recall    F1        \n",
      "\n",
      "circle    0.650     0.663     0.657\n",
      "diamond   0.604     0.624     0.614\n",
      "triangle  0.941     0.896     0.918\n"
     ]
    }
   ],
   "source": [
    "def test(model, test_loader):\n",
    "    \"\"\"Print the Precision, Recall and F1-score for the trained model\n",
    "    \"\"\"\n",
    "    model.eval()\n",
    "\n",
    "    all_preds = []\n",
    "    all_labels = []\n",
    "    with torch.no_grad():\n",
    "        for images, labels in test_loader:\n",
    "            images, labels = images.to(device), labels.to(device)\n",
    "            output = model(images)\n",
    "            _, preds = torch.max(output, 1)\n",
    "            all_preds.extend(preds.cpu().numpy())\n",
    "            all_labels.extend(labels.cpu().numpy())\n",
    "\n",
    "    class_name = test_loader.dataset.classes\n",
    "    num_classes = len(class_name)\n",
    "\n",
    "    true_pos = [0] * num_classes\n",
    "    false_pos = [0] * num_classes\n",
    "    false_neg = [0] * num_classes\n",
    "\n",
    "    for pred, label in zip(all_preds,all_labels):\n",
    "        if pred == label:\n",
    "            true_pos[label] += 1\n",
    "        else:\n",
    "            false_pos[pred] +=1\n",
    "            false_neg[label] +=1\n",
    "\n",
    "    print(f\"{'Class':<10}{'Pre':<10}{'Recall':<10}{'F1':<10}\")\n",
    "    print()\n",
    "\n",
    "    for i in range(num_classes):\n",
    "        precision = true_pos[i]/(true_pos[i]+false_pos[i])\n",
    "        recall = true_pos[i]/(true_pos[i]+false_neg[i])\n",
    "        f1 = 2 * (precision*recall) / (precision + recall)\n",
    "        \n",
    "        print(f\"{class_name[i]:<10}{precision:.3f}     {recall:.3f}     {f1:.3f}\")\n",
    "    pass\n",
    "test(model,test_loader)"
   ]
  },
  {
   "cell_type": "markdown",
   "id": "7",
   "metadata": {},
   "source": [
    "# Show Predictions\n"
   ]
  },
  {
   "cell_type": "code",
   "execution_count": 25,
   "id": "03f4761e",
   "metadata": {},
   "outputs": [],
   "source": [
    "import numpy as np\n",
    "import matplotlib.pyplot as plt\n",
    "from PIL import Image"
   ]
  },
  {
   "cell_type": "code",
   "execution_count": 35,
   "id": "8",
   "metadata": {},
   "outputs": [
    {
     "data": {
      "image/png": "[encoded data removed]",
      "text/plain": [
       "<Figure size 640x480 with 1 Axes>"
      ]
     },
     "metadata": {},
     "output_type": "display_data"
    }
   ],
   "source": [
    "def show_prediction(model, image):\n",
    "    \"\"\"Pass the image to the model and overlay the predicted shape and confidence on the input\n",
    "    image and display it\n",
    "    \"\"\"\n",
    "    model.eval()\n",
    "\n",
    "    transformed_image = transform(image).unsqueeze(0).to(device)\n",
    "\n",
    "    with torch.no_grad():\n",
    "        output = model(transformed_image)\n",
    "        probabilities = F.softmax(output,dim=1)\n",
    "        confidence, predicted = torch.max(probabilities,1)\n",
    "\n",
    "    class_names = train_dataset.classes\n",
    "    pre_class = class_names[predicted.item()]\n",
    "    confidence = confidence.item()\n",
    "\n",
    "    img = transformed_image.squeeze().cpu().numpy()\n",
    "    img = img *0.5+0.5\n",
    "    img = np.expand_dims(img,axis=-1)\n",
    "    img = img.squeeze() if img.shape[2] == 1 else img\n",
    "\n",
    "    plt.figure()\n",
    "    plt.imshow(img)\n",
    "    plt.title(f'Pre:{pre_class}\\nConfidence:{confidence:.2%}')\n",
    "    plt.show()\n",
    "\n",
    "    pass\n",
    "\n",
    "files = os.listdir(\"../datasets/test/circle\")\n",
    "img_files = [f for f in files if f.endswith(\".png\")]\n",
    "\n",
    "show_prediction(model, Image.open(os.path.join(\"../datasets/test/circle\",img_files[0])))"
   ]
  }
 ],
 "metadata": {
  "kernelspec": {
   "display_name": "intern-test",
   "language": "python",
   "name": "python3"
  },
  "language_info": {
   "codemirror_mode": {
    "name": "ipython",
    "version": 3
   },
   "file_extension": ".py",
   "mimetype": "text/x-python",
   "name": "python",
   "nbconvert_exporter": "python",
   "pygments_lexer": "ipython3",
   "version": "3.11.11"
  }
 },
 "nbformat": 4,
 "nbformat_minor": 5
}
